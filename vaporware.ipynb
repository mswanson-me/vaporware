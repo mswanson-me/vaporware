{
 "cells": [
  {
   "cell_type": "code",
   "execution_count": 104,
   "metadata": {
    "collapsed": true
   },
   "outputs": [],
   "source": [
    "import config\n",
    "import requests\n",
    "import json\n",
    "import ast\n",
    "import numpy as np\n",
    "import pandas as pd"
   ]
  },
  {
   "cell_type": "code",
   "execution_count": 105,
   "metadata": {},
   "outputs": [],
   "source": [
    "# Pass in as arg {0} for the URL, referenced as method_dict[key]\n",
    "method_dict = {\"GetNewsForApp\":\"ISteamNews/GetNewsForApp/v0002/\", \n",
    "             \"GetGlobalAchievementPercentagesForApp\": \"ISteamUserStats/GetGlobalAchievementPercentagesForApp/v0002/\", \n",
    "             \"GetGlobalStatsForGame\": \"ISteamUserStats/GetGlobalStatsForGame/v0001/\", \n",
    "             \"GetPlayerSummaries\": \"ISteamUser/GetPlayerSummaries/v0002/\", \n",
    "             \"GetFriendList\": \"ISteamUser/GetFriendList/v0001/\", \n",
    "             \"GetPlayerAchievements\": \"ISteamUserStats/GetPlayerAchievements/v0001/\", \n",
    "             \"GetUserStatsForGame\": \"ISteamUserStats/GetUserStatsForGame/v0002/\", \n",
    "             \"GetOwnedGames\": \"IPlayerService/GetOwnedGames/v0001/\", \n",
    "             \"GetRecentlyPlayedGames\": \"IPlayerService/GetRecentlyPlayedGames/v0001/\", \n",
    "             \"IsPlayingSharedGame\": \"IPlayerService/IsPlayingSharedGame/v0001/\", \n",
    "             \"GetSchemaForGame\": \"ISteamUserStats/GetSchemaForGame/v2/\", \n",
    "             \"GetPlayerBans\": \"ISteamUser/GetPlayerBans/v1/\"\n",
    "            }\n",
    "\n",
    "api_method = method_dict[\"GetOwnedGames\"]\n",
    "\n",
    "# The required api_args are different depending on which method is being called.\n",
    "# For simplicity's sake, the api_args currently is just steam_id.\n",
    "# This limits the number of methods that are currently usable.\n",
    "# Expanding the number of usable methods is not a pressing issue, but will be addressed after minimum viable functionality is achieved.\n",
    "\n",
    "steam_id = \"&steamid={0}\".format(config.steam_user)\n",
    "api_args = steam_id\n",
    "\n",
    "fetch_url = \"http://api.steampowered.com/{0}?key={1}{2}\".format(api_method, config.api_key, api_args)\n",
    "\n",
    "r = requests.get(fetch_url)\n",
    "returned_values = r.json()\n",
    "#print(json.dumps(returned_values, sort_keys=True, indent=4))"
   ]
  },
  {
   "cell_type": "code",
   "execution_count": 106,
   "metadata": {},
   "outputs": [
    {
     "name": "stdout",
     "output_type": "stream",
     "text": [
      "70\n"
     ]
    }
   ],
   "source": [
    "# Checking that I can slice from the JSON data\n",
    "print(json.dumps(returned_values[\"response\"][\"games\"][6][\"appid\"], sort_keys=True, indent=4))"
   ]
  },
  {
   "cell_type": "code",
   "execution_count": 107,
   "metadata": {},
   "outputs": [
    {
     "name": "stdout",
     "output_type": "stream",
     "text": [
      "Number of games owned: 224\n",
      "Number of games played: 126\n",
      "Percentage of owned games that have been played: 0.5625\n"
     ]
    }
   ],
   "source": [
    "# Store total game count in variable\n",
    "game_count = returned_values[\"response\"][\"game_count\"]\n",
    "print(\"Number of games owned: \" + str(game_count))\n",
    "\n",
    "# Create empty list for counting games played\n",
    "my_list = []\n",
    "\n",
    "# Identify each game with playtime over 0 minutes, and add to my_list\n",
    "for i in returned_values[\"response\"][\"games\"][0:-1]:\n",
    "    if i[\"playtime_forever\"] > 0:\n",
    "        my_list.append(i)\n",
    "\n",
    "# Count number of games played\n",
    "game_played = len(my_list)\n",
    "print(\"Number of games played: \" + str(game_played))\n",
    "\n",
    "# Calculate games played as a percentage of games owned\n",
    "game_percent = game_played/game_count\n",
    "print(\"Percentage of owned games that have been played: \" + str(game_percent))"
   ]
  },
  {
   "cell_type": "code",
   "execution_count": 108,
   "metadata": {},
   "outputs": [
    {
     "name": "stdout",
     "output_type": "stream",
     "text": [
      "{'appid': 49520, 'playtime_forever': 11179}\n",
      "{'appid': 730, 'playtime_2weeks': 304, 'playtime_forever': 6834}\n",
      "{'appid': 10190, 'playtime_forever': 4169}\n",
      "{'appid': 28050, 'playtime_forever': 3331}\n",
      "{'appid': 12210, 'playtime_forever': 3014}\n",
      "{'appid': 241600, 'playtime_forever': 2551}\n",
      "{'appid': 32370, 'playtime_forever': 2230}\n",
      "{'appid': 8980, 'playtime_forever': 2116}\n",
      "{'appid': 9480, 'playtime_forever': 2102}\n"
     ]
    }
   ],
   "source": [
    "# Retrieving top ten most played games \n",
    "sorted_values = json.dumps(sorted(returned_values[\"response\"][\"games\"], key=lambda i: i[\"playtime_forever\"], reverse=True), indent=4)\n",
    "top_ten = ast.literal_eval(sorted_values)[:9]\n",
    "\n",
    "for i in top_ten:\n",
    "    print(i)"
   ]
  },
  {
   "cell_type": "code",
   "execution_count": null,
   "metadata": {},
   "outputs": [],
   "source": []
  },
  {
   "cell_type": "code",
   "execution_count": null,
   "metadata": {
    "collapsed": true
   },
   "outputs": [],
   "source": []
  }
 ],
 "metadata": {
  "kernelspec": {
   "display_name": "Python 3",
   "language": "python",
   "name": "python3"
  },
  "language_info": {
   "codemirror_mode": {
    "name": "ipython",
    "version": 3
   },
   "file_extension": ".py",
   "mimetype": "text/x-python",
   "name": "python",
   "nbconvert_exporter": "python",
   "pygments_lexer": "ipython3",
   "version": "3.6.3"
  }
 },
 "nbformat": 4,
 "nbformat_minor": 2
}
