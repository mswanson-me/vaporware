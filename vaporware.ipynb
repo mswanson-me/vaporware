{
 "cells": [
  {
   "cell_type": "code",
   "execution_count": 55,
   "metadata": {
    "collapsed": true
   },
   "outputs": [],
   "source": [
    "import config\n",
    "import requests\n",
    "import json\n",
    "import ast\n",
    "import numpy as np\n",
    "import pandas as pd"
   ]
  },
  {
   "cell_type": "code",
   "execution_count": 56,
   "metadata": {
    "collapsed": true
   },
   "outputs": [],
   "source": [
    "method_dict = {\"GetNewsForApp\":\"ISteamNews/GetNewsForApp/v0002/\", \n",
    "             \"GetGlobalAchievementPercentagesForApp\": \"ISteamUserStats/GetGlobalAchievementPercentagesForApp/v0002/\", \n",
    "             \"GetGlobalStatsForGame\": \"ISteamUserStats/GetGlobalStatsForGame/v0001/\", \n",
    "             \"GetPlayerSummaries\": \"ISteamUser/GetPlayerSummaries/v0002/\", \n",
    "             \"GetFriendList\": \"ISteamUser/GetFriendList/v0001/\", \n",
    "             \"GetPlayerAchievements\": \"ISteamUserStats/GetPlayerAchievements/v0001/\", \n",
    "             \"GetUserStatsForGame\": \"ISteamUserStats/GetUserStatsForGame/v0002/\", \n",
    "             \"GetOwnedGames\": \"IPlayerService/GetOwnedGames/v0001/\", \n",
    "             \"GetRecentlyPlayedGames\": \"IPlayerService/GetRecentlyPlayedGames/v0001/\", \n",
    "             \"IsPlayingSharedGame\": \"IPlayerService/IsPlayingSharedGame/v0001/\", \n",
    "             \"GetSchemaForGame\": \"ISteamUserStats/GetSchemaForGame/v2/\", \n",
    "             \"GetPlayerBans\": \"ISteamUser/GetPlayerBans/v1/\"\n",
    "            }\n"
   ]
  },
  {
   "cell_type": "code",
   "execution_count": 57,
   "metadata": {
    "collapsed": true
   },
   "outputs": [],
   "source": [
    "# GetOwnedGames accepts a Steam user id and queries the Steam Web API to retrieve information about the user's owned games\n",
    "# Functions are provided to gather limited insights from the retrieved data\n",
    "class GetOwnedGames():\n",
    "    def __init__(self, steam_id):\n",
    "        self.steam_id = steam_id\n",
    "        fetch_url = \"http://api.steampowered.com/IPlayerService/GetOwnedGames/v0001/?key={}&steamid={}\".format(config.api_key, self.steam_id)\n",
    "        self.r = requests.get(fetch_url)\n",
    "        self.data = self.r.json()\n",
    "        \n",
    "    def count_games(self, data):\n",
    "        self.data = data\n",
    "        self.games_owned = self.data[\"response\"][\"game_count\"]\n",
    "        print(\"Number of games owned: \" + str(self.games_owned))\n",
    "        \n",
    "    def count_played(self, data):\n",
    "        self.data = data\n",
    "        self.list = []\n",
    "        for i in self.data[\"response\"][\"games\"][0:-1]:\n",
    "            if i[\"playtime_forever\"] > 0:\n",
    "                self.list.append(i)\n",
    "\n",
    "        self.played = len(self.list)\n",
    "        print(\"Number of games played: \" + str(self.played))\n",
    "        \n",
    "    def percent_played(self, data):\n",
    "        self.data = data\n",
    "        self.percent = self.played/self.games_owned\n",
    "        print(\"Percentage of owned games that have been played: \" + str(self.percent))\n",
    "        \n",
    "    def top_ten(self, data):\n",
    "        self.data = data\n",
    "        self.playtime_sorted = json.dumps(sorted(self.data[\"response\"][\"games\"], key=lambda i: i[\"playtime_forever\"], reverse=True), indent=4)\n",
    "        self.top_ten = ast.literal_eval(self.playtime_sorted)[:10]\n",
    "        \n",
    "        for i in self.top_ten:\n",
    "            self.titles = []\n",
    "            self.appid = i[\"appid\"]\n",
    "            self.appid_url = \"http://store.steampowered.com/api/appdetails?appids={0}\".format(self.appid)\n",
    "            self.r = requests.get(self.appid_url)\n",
    "            self.app_data = self.r.json()\n",
    "            if json.dumps(self.app_data[str(self.appid)][\"success\"]) == \"false\":\n",
    "                self.titles.append(\"No data....\")\n",
    "            else:\n",
    "                self.titles.append(json.dumps(self.app_data[str(self.appid)][\"data\"][\"name\"], indent=4))\n",
    "            for x in self.titles:\n",
    "                print(x)"
   ]
  },
  {
   "cell_type": "code",
   "execution_count": 58,
   "metadata": {},
   "outputs": [
    {
     "name": "stdout",
     "output_type": "stream",
     "text": [
      "Number of games owned: 224\n",
      "Number of games played: 126\n",
      "Percentage of owned games that have been played: 0.5625\n",
      "\"Borderlands 2\"\n",
      "\"Counter-Strike: Global Offensive\"\n",
      "\"Call of Duty\\u00ae: Modern Warfare\\u00ae 2\"\n",
      "No data....\n",
      "\"Grand Theft Auto IV\"\n",
      "\"Rogue Legacy\"\n",
      "\"STAR WARS\\u2122 - Knights of the Old Republic\\u2122\"\n",
      "\"Borderlands\"\n",
      "\"Saints Row 2\"\n",
      "\"FTL: Faster Than Light\"\n"
     ]
    }
   ],
   "source": [
    "player_one = GetOwnedGames(config.steam_user)\n",
    "player_one.count_games(player_one.data)\n",
    "player_one.count_played(player_one.data)\n",
    "player_one.percent_played(player_one.data)\n",
    "player_one.top_ten(player_one.data)"
   ]
  },
  {
   "cell_type": "code",
   "execution_count": 59,
   "metadata": {
    "collapsed": true
   },
   "outputs": [],
   "source": [
    "# CODE BELOW THIS POINT WILL BE INTEGRATED IN RELEVANT CLASSES\n",
    "# CURRENT STATE IS SIMPLY PROOF OF CONCEPT"
   ]
  },
  {
   "cell_type": "code",
   "execution_count": null,
   "metadata": {},
   "outputs": [],
   "source": []
  }
 ],
 "metadata": {
  "kernelspec": {
   "display_name": "Python 3",
   "language": "python",
   "name": "python3"
  },
  "language_info": {
   "codemirror_mode": {
    "name": "ipython",
    "version": 3
   },
   "file_extension": ".py",
   "mimetype": "text/x-python",
   "name": "python",
   "nbconvert_exporter": "python",
   "pygments_lexer": "ipython3",
   "version": "3.6.3"
  }
 },
 "nbformat": 4,
 "nbformat_minor": 2
}
