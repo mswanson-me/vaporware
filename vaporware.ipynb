{
 "cells": [
  {
   "cell_type": "code",
   "execution_count": 54,
   "metadata": {
    "collapsed": true
   },
   "outputs": [],
   "source": [
    "import config\n",
    "import requests\n",
    "import json\n",
    "import ast\n",
    "import numpy as np\n",
    "import pandas as pd"
   ]
  },
  {
   "cell_type": "code",
   "execution_count": 55,
   "metadata": {
    "collapsed": true
   },
   "outputs": [],
   "source": [
    "method_dict = {\"GetNewsForApp\":\"ISteamNews/GetNewsForApp/v0002/\", \n",
    "             \"GetGlobalAchievementPercentagesForApp\": \"ISteamUserStats/GetGlobalAchievementPercentagesForApp/v0002/\", \n",
    "             \"GetGlobalStatsForGame\": \"ISteamUserStats/GetGlobalStatsForGame/v0001/\", \n",
    "             \"GetPlayerSummaries\": \"ISteamUser/GetPlayerSummaries/v0002/\", \n",
    "             \"GetFriendList\": \"ISteamUser/GetFriendList/v0001/\", \n",
    "             \"GetPlayerAchievements\": \"ISteamUserStats/GetPlayerAchievements/v0001/\", \n",
    "             \"GetUserStatsForGame\": \"ISteamUserStats/GetUserStatsForGame/v0002/\", \n",
    "             \"GetOwnedGames\": \"IPlayerService/GetOwnedGames/v0001/\", \n",
    "             \"GetRecentlyPlayedGames\": \"IPlayerService/GetRecentlyPlayedGames/v0001/\", \n",
    "             \"IsPlayingSharedGame\": \"IPlayerService/IsPlayingSharedGame/v0001/\", \n",
    "             \"GetSchemaForGame\": \"ISteamUserStats/GetSchemaForGame/v2/\", \n",
    "             \"GetPlayerBans\": \"ISteamUser/GetPlayerBans/v1/\"\n",
    "            }\n"
   ]
  },
  {
   "cell_type": "code",
   "execution_count": 58,
   "metadata": {},
   "outputs": [],
   "source": [
    "class GetOwnedGames():\n",
    "    def __init__(self, steam_id):\n",
    "        self.steam_id = steam_id\n",
    "        fetch_url = \"http://api.steampowered.com/IPlayerService/GetOwnedGames/v0001/?key={}&steamid={}\".format(config.api_key, self.steam_id)\n",
    "        self.r = requests.get(fetch_url)\n",
    "        self.data = self.r.json()\n",
    "        #print(json.dumps(self.data, sort_keys=True, indent=4))"
   ]
  },
  {
   "cell_type": "code",
   "execution_count": 59,
   "metadata": {},
   "outputs": [],
   "source": [
    "seameat = GetOwnedGames(config.steam_user)"
   ]
  },
  {
   "cell_type": "code",
   "execution_count": 60,
   "metadata": {},
   "outputs": [],
   "source": [
    "# CODE BELOW THIS POINT WILL BE INTEGRATED IN RELEVANT CLASSES\n",
    "# CURRENT STATE IS SIMPLY PROOF OF CONCEPT"
   ]
  },
  {
   "cell_type": "code",
   "execution_count": 61,
   "metadata": {},
   "outputs": [
    {
     "name": "stdout",
     "output_type": "stream",
     "text": [
      "Number of games owned: 224\n",
      "Number of games played: 126\n",
      "Percentage of owned games that have been played: 0.5625\n"
     ]
    }
   ],
   "source": [
    "# Store total game count in variable\n",
    "game_count = returned_values[\"response\"][\"game_count\"]\n",
    "print(\"Number of games owned: \" + str(game_count))\n",
    "\n",
    "# Create empty list for counting games played\n",
    "my_list = []\n",
    "\n",
    "# Identify each game with playtime over 0 minutes, and add to my_list\n",
    "for i in returned_values[\"response\"][\"games\"][0:-1]:\n",
    "    if i[\"playtime_forever\"] > 0:\n",
    "        my_list.append(i)\n",
    "\n",
    "# Count number of games played\n",
    "game_played = len(my_list)\n",
    "print(\"Number of games played: \" + str(game_played))\n",
    "\n",
    "# Calculate games played as a percentage of games owned\n",
    "game_percent = game_played/game_count\n",
    "print(\"Percentage of owned games that have been played: \" + str(game_percent))"
   ]
  },
  {
   "cell_type": "code",
   "execution_count": 62,
   "metadata": {},
   "outputs": [
    {
     "name": "stdout",
     "output_type": "stream",
     "text": [
      "{'appid': 49520, 'playtime_forever': 11179}\n",
      "{'appid': 730, 'playtime_2weeks': 153, 'playtime_forever': 6834}\n",
      "{'appid': 10190, 'playtime_forever': 4169}\n",
      "{'appid': 28050, 'playtime_forever': 3331}\n",
      "{'appid': 12210, 'playtime_forever': 3014}\n",
      "{'appid': 241600, 'playtime_forever': 2551}\n",
      "{'appid': 32370, 'playtime_forever': 2230}\n",
      "{'appid': 8980, 'playtime_forever': 2116}\n",
      "{'appid': 9480, 'playtime_forever': 2102}\n",
      "{'appid': 212680, 'playtime_forever': 1713}\n"
     ]
    }
   ],
   "source": [
    "# Retrieving top ten most played games \n",
    "sorted_values = json.dumps(sorted(returned_values[\"response\"][\"games\"], key=lambda i: i[\"playtime_forever\"], reverse=True), indent=4)\n",
    "top_ten = ast.literal_eval(sorted_values)[:10]\n",
    "\n",
    "for i in top_ten:\n",
    "    print(i)"
   ]
  },
  {
   "cell_type": "code",
   "execution_count": 63,
   "metadata": {},
   "outputs": [
    {
     "name": "stdout",
     "output_type": "stream",
     "text": [
      "\"Borderlands 2\"\n",
      "---------------------------------------------------------------------------\n",
      "\"Counter-Strike: Global Offensive\"\n",
      "---------------------------------------------------------------------------\n",
      "\"Call of Duty\\u00ae: Modern Warfare\\u00ae 2\"\n",
      "---------------------------------------------------------------------------\n",
      "No data....\n",
      "---------------------------------------------------------------------------\n",
      "\"Grand Theft Auto IV\"\n",
      "---------------------------------------------------------------------------\n",
      "\"Rogue Legacy\"\n",
      "---------------------------------------------------------------------------\n",
      "\"STAR WARS\\u2122 - Knights of the Old Republic\\u2122\"\n",
      "---------------------------------------------------------------------------\n",
      "\"Borderlands\"\n",
      "---------------------------------------------------------------------------\n",
      "\"Saints Row 2\"\n",
      "---------------------------------------------------------------------------\n",
      "\"FTL: Faster Than Light\"\n",
      "---------------------------------------------------------------------------\n"
     ]
    }
   ],
   "source": [
    "# Display game title for each of the top ten games\n",
    "# NEXT TASK: append to list instead of printing, condense all this into a function\n",
    "for i in top_ten:\n",
    "    appid = i[\"appid\"]\n",
    "    appid_url = \"http://store.steampowered.com/api/appdetails?appids={0}\".format(appid)\n",
    "    r = requests.get(appid_url)\n",
    "    game_data = r.json()\n",
    "    if json.dumps(game_data[str(appid)][\"success\"]) == \"false\":\n",
    "        print(\"No data....\")\n",
    "    else:\n",
    "        print(json.dumps(game_data[str(appid)][\"data\"][\"name\"], indent=4))\n",
    "    print(\"-\"*75)"
   ]
  },
  {
   "cell_type": "code",
   "execution_count": null,
   "metadata": {
    "collapsed": true
   },
   "outputs": [],
   "source": []
  },
  {
   "cell_type": "code",
   "execution_count": null,
   "metadata": {
    "collapsed": true
   },
   "outputs": [],
   "source": []
  },
  {
   "cell_type": "code",
   "execution_count": null,
   "metadata": {
    "collapsed": true
   },
   "outputs": [],
   "source": []
  }
 ],
 "metadata": {
  "kernelspec": {
   "display_name": "Python 3",
   "language": "python",
   "name": "python3"
  },
  "language_info": {
   "codemirror_mode": {
    "name": "ipython",
    "version": 3
   },
   "file_extension": ".py",
   "mimetype": "text/x-python",
   "name": "python",
   "nbconvert_exporter": "python",
   "pygments_lexer": "ipython3",
   "version": "3.6.3"
  }
 },
 "nbformat": 4,
 "nbformat_minor": 2
}
